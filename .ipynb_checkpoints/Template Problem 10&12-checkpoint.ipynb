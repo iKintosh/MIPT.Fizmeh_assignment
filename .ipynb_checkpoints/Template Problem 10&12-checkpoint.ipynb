{
 "cells": [
  {
   "cell_type": "code",
   "execution_count": 1,
   "metadata": {},
   "outputs": [],
   "source": [
    "import numpy as np\n",
    "import matplotlib.pyplot as plt"
   ]
  },
  {
   "cell_type": "code",
   "execution_count": 2,
   "metadata": {},
   "outputs": [],
   "source": [
    "def calc_func(T, p, g_i = 1, z_a = 1, m = 6.64*10e-27, I = 24.5874, H = 6.582*10e-16):\n",
    "    #enter your code here\n",
    "    #print((2*g_i/z_a) * (T/p) *(m*T/(2*np.pi*H**2))**(3/2) * np.exp(-I/T))\n",
    "    return((2*g_i/z_a) * (T/p)*(m*T/(2*np.pi*H**2))**(3/2) * np.exp(-I/T))\n",
    "    pass\n",
    "\n",
    "def find_alpha(coef):\n",
    "    return np.sqrt(coef/(coef+1))"
   ]
  },
  {
   "cell_type": "code",
   "execution_count": 3,
   "metadata": {},
   "outputs": [],
   "source": [
    "g_i = 1\n",
    "z_a = 1  #от основного состояния\n",
    "m = 6.64*10e-27 #kg\n",
    "m_e = 9.10938356*10e-28 # g\n",
    "H = 6.582*10e-16 #Эв*с\n",
    "T = np.linspace(3000, 50000, 100)\n",
    "T_eV = T/11605 \n",
    "p = np.linspace(0.1, 1, 10)\n",
    "I = 24.5874\n"
   ]
  },
  {
   "cell_type": "code",
   "execution_count": 4,
   "metadata": {},
   "outputs": [],
   "source": [
    "coef = calc_func(T_eV , 0.1 , m = m_e)"
   ]
  },
  {
   "cell_type": "code",
   "execution_count": 5,
   "metadata": {},
   "outputs": [],
   "source": [
    "alpha = find_alpha(coef)"
   ]
  },
  {
   "cell_type": "code",
   "execution_count": 6,
   "metadata": {},
   "outputs": [
    {
     "data": {
      "image/png": "[encoded data removed]",
      "text/plain": [
       "<Figure size 432x288 with 1 Axes>"
      ]
     },
     "metadata": {},
     "output_type": "display_data"
    }
   ],
   "source": [
    "plt.plot(T_eV, alpha)\n",
    "plt.grid()\n",
    "plt.show()"
   ]
  },
  {
   "cell_type": "code",
   "execution_count": 35,
   "metadata": {},
   "outputs": [
    {
     "data": {
      "text/html": [
       "\n",
       "    <div class=\"bk-root\">\n",
       "        <a href=\"https://bokeh.pydata.org\" target=\"_blank\" class=\"bk-logo bk-logo-small bk-logo-notebook\"></a>\n",
       "        <span id=\"61d9c7c6-be4d-4601-852d-75612961aa1a\">Loading BokehJS ...</span>\n",
       "    </div>"
      ]
     },
     "metadata": {},
     "output_type": "display_data"
    },
    {
     "data": {
      "application/javascript": [
       "\n",
       "(function(root) {\n",
       "  function now() {\n",
       "    return new Date();\n",
       "  }\n",
       "\n",
       "  var force = true;\n",
       "\n",
       "  if (typeof (root._bokeh_onload_callbacks) === \"undefined\" || force === true) {\n",
       "    root._bokeh_onload_callbacks = [];\n",
       "    root._bokeh_is_loading = undefined;\n",
       "  }\n",
       "\n",
       "  var JS_MIME_TYPE = 'application/javascript';\n",
       "  var HTML_MIME_TYPE = 'text/html';\n",
       "  var EXEC_MIME_TYPE = 'application/vnd.bokehjs_exec.v0+json';\n",
       "  var CLASS_NAME = 'output_bokeh rendered_html';\n",
       "\n",
       "  /**\n",
       "   * Render data to the DOM node\n",
       "   */\n",
       "  function render(props, node) {\n",
       "    var script = document.createElement(\"script\");\n",
       "    node.appendChild(script);\n",
       "  }\n",
       "\n",
       "  /**\n",
       "   * Handle when an output is cleared or removed\n",
       "   */\n",
       "  function handleClearOutput(event, handle) {\n",
       "    var cell = handle.cell;\n",
       "\n",
       "    var id = cell.output_area._bokeh_element_id;\n",
       "    var server_id = cell.output_area._bokeh_server_id;\n",
       "    // Clean up Bokeh references\n",
       "    if (id !== undefined) {\n",
       "      Bokeh.index[id].model.document.clear();\n",
       "      delete Bokeh.index[id];\n",
       "    }\n",
       "\n",
       "    if (server_id !== undefined) {\n",
       "      // Clean up Bokeh references\n",
       "      var cmd = \"from bokeh.io.state import curstate; print(curstate().uuid_to_server['\" + server_id + \"'].get_sessions()[0].document.roots[0]._id)\";\n",
       "      cell.notebook.kernel.execute(cmd, {\n",
       "        iopub: {\n",
       "          output: function(msg) {\n",
       "            var element_id = msg.content.text.trim();\n",
       "            Bokeh.index[element_id].model.document.clear();\n",
       "            delete Bokeh.index[element_id];\n",
       "          }\n",
       "        }\n",
       "      });\n",
       "      // Destroy server and session\n",
       "      var cmd = \"import bokeh.io.notebook as ion; ion.destroy_server('\" + server_id + \"')\";\n",
       "      cell.notebook.kernel.execute(cmd);\n",
       "    }\n",
       "  }\n",
       "\n",
       "  /**\n",
       "   * Handle when a new output is added\n",
       "   */\n",
       "  function handleAddOutput(event, handle) {\n",
       "    var output_area = handle.output_area;\n",
       "    var output = handle.output;\n",
       "\n",
       "    // limit handleAddOutput to display_data with EXEC_MIME_TYPE content only\n",
       "    if ((output.output_type != \"display_data\") || (!output.data.hasOwnProperty(EXEC_MIME_TYPE))) {\n",
       "      return\n",
       "    }\n",
       "\n",
       "    var toinsert = output_area.element.find(\".\" + CLASS_NAME.split(' ')[0]);\n",
       "\n",
       "    if (output.metadata[EXEC_MIME_TYPE][\"id\"] !== undefined) {\n",
       "      toinsert[toinsert.length - 1].firstChild.textContent = output.data[JS_MIME_TYPE];\n",
       "      // store reference to embed id on output_area\n",
       "      output_area._bokeh_element_id = output.metadata[EXEC_MIME_TYPE][\"id\"];\n",
       "    }\n",
       "    if (output.metadata[EXEC_MIME_TYPE][\"server_id\"] !== undefined) {\n",
       "      var bk_div = document.createElement(\"div\");\n",
       "      bk_div.innerHTML = output.data[HTML_MIME_TYPE];\n",
       "      var script_attrs = bk_div.children[0].attributes;\n",
       "      for (var i = 0; i < script_attrs.length; i++) {\n",
       "        toinsert[toinsert.length - 1].firstChild.setAttribute(script_attrs[i].name, script_attrs[i].value);\n",
       "      }\n",
       "      // store reference to server id on output_area\n",
       "      output_area._bokeh_server_id = output.metadata[EXEC_MIME_TYPE][\"server_id\"];\n",
       "    }\n",
       "  }\n",
       "\n",
       "  function register_renderer(events, OutputArea) {\n",
       "\n",
       "    function append_mime(data, metadata, element) {\n",
       "      // create a DOM node to render to\n",
       "      var toinsert = this.create_output_subarea(\n",
       "        metadata,\n",
       "        CLASS_NAME,\n",
       "        EXEC_MIME_TYPE\n",
       "      );\n",
       "      this.keyboard_manager.register_events(toinsert);\n",
       "      // Render to node\n",
       "      var props = {data: data, metadata: metadata[EXEC_MIME_TYPE]};\n",
       "      render(props, toinsert[toinsert.length - 1]);\n",
       "      element.append(toinsert);\n",
       "      return toinsert\n",
       "    }\n",
       "\n",
       "    /* Handle when an output is cleared or removed */\n",
       "    events.on('clear_output.CodeCell', handleClearOutput);\n",
       "    events.on('delete.Cell', handleClearOutput);\n",
       "\n",
       "    /* Handle when a new output is added */\n",
       "    events.on('output_added.OutputArea', handleAddOutput);\n",
       "\n",
       "    /**\n",
       "     * Register the mime type and append_mime function with output_area\n",
       "     */\n",
       "    OutputArea.prototype.register_mime_type(EXEC_MIME_TYPE, append_mime, {\n",
       "      /* Is output safe? */\n",
       "      safe: true,\n",
       "      /* Index of renderer in `output_area.display_order` */\n",
       "      index: 0\n",
       "    });\n",
       "  }\n",
       "\n",
       "  // register the mime type if in Jupyter Notebook environment and previously unregistered\n",
       "  if (root.Jupyter !== undefined) {\n",
       "    var events = require('base/js/events');\n",
       "    var OutputArea = require('notebook/js/outputarea').OutputArea;\n",
       "\n",
       "    if (OutputArea.prototype.mime_types().indexOf(EXEC_MIME_TYPE) == -1) {\n",
       "      register_renderer(events, OutputArea);\n",
       "    }\n",
       "  }\n",
       "\n",
       "  \n",
       "  if (typeof (root._bokeh_timeout) === \"undefined\" || force === true) {\n",
       "    root._bokeh_timeout = Date.now() + 5000;\n",
       "    root._bokeh_failed_load = false;\n",
       "  }\n",
       "\n",
       "  var NB_LOAD_WARNING = {'data': {'text/html':\n",
       "     \"<div style='background-color: #fdd'>\\n\"+\n",
       "     \"<p>\\n\"+\n",
       "     \"BokehJS does not appear to have successfully loaded. If loading BokehJS from CDN, this \\n\"+\n",
       "     \"may be due to a slow or bad network connection. Possible fixes:\\n\"+\n",
       "     \"</p>\\n\"+\n",
       "     \"<ul>\\n\"+\n",
       "     \"<li>re-rerun `output_notebook()` to attempt to load from CDN again, or</li>\\n\"+\n",
       "     \"<li>use INLINE resources instead, as so:</li>\\n\"+\n",
       "     \"</ul>\\n\"+\n",
       "     \"<code>\\n\"+\n",
       "     \"from bokeh.resources import INLINE\\n\"+\n",
       "     \"output_notebook(resources=INLINE)\\n\"+\n",
       "     \"</code>\\n\"+\n",
       "     \"</div>\"}};\n",
       "\n",
       "  function display_loaded() {\n",
       "    var el = document.getElementById(\"61d9c7c6-be4d-4601-852d-75612961aa1a\");\n",
       "    if (el != null) {\n",
       "      el.textContent = \"BokehJS is loading...\";\n",
       "    }\n",
       "    if (root.Bokeh !== undefined) {\n",
       "      if (el != null) {\n",
       "        el.textContent = \"BokehJS \" + root.Bokeh.version + \" successfully loaded.\";\n",
       "      }\n",
       "    } else if (Date.now() < root._bokeh_timeout) {\n",
       "      setTimeout(display_loaded, 100)\n",
       "    }\n",
       "  }\n",
       "\n",
       "\n",
       "  function run_callbacks() {\n",
       "    try {\n",
       "      root._bokeh_onload_callbacks.forEach(function(callback) { callback() });\n",
       "    }\n",
       "    finally {\n",
       "      delete root._bokeh_onload_callbacks\n",
       "    }\n",
       "    console.info(\"Bokeh: all callbacks have finished\");\n",
       "  }\n",
       "\n",
       "  function load_libs(js_urls, callback) {\n",
       "    root._bokeh_onload_callbacks.push(callback);\n",
       "    if (root._bokeh_is_loading > 0) {\n",
       "      console.log(\"Bokeh: BokehJS is being loaded, scheduling callback at\", now());\n",
       "      return null;\n",
       "    }\n",
       "    if (js_urls == null || js_urls.length === 0) {\n",
       "      run_callbacks();\n",
       "      return null;\n",
       "    }\n",
       "    console.log(\"Bokeh: BokehJS not loaded, scheduling load and callback at\", now());\n",
       "    root._bokeh_is_loading = js_urls.length;\n",
       "    for (var i = 0; i < js_urls.length; i++) {\n",
       "      var url = js_urls[i];\n",
       "      var s = document.createElement('script');\n",
       "      s.src = url;\n",
       "      s.async = false;\n",
       "      s.onreadystatechange = s.onload = function() {\n",
       "        root._bokeh_is_loading--;\n",
       "        if (root._bokeh_is_loading === 0) {\n",
       "          console.log(\"Bokeh: all BokehJS libraries loaded\");\n",
       "          run_callbacks()\n",
       "        }\n",
       "      };\n",
       "      s.onerror = function() {\n",
       "        console.warn(\"failed to load library \" + url);\n",
       "      };\n",
       "      console.log(\"Bokeh: injecting script tag for BokehJS library: \", url);\n",
       "      document.getElementsByTagName(\"head\")[0].appendChild(s);\n",
       "    }\n",
       "  };var element = document.getElementById(\"61d9c7c6-be4d-4601-852d-75612961aa1a\");\n",
       "  if (element == null) {\n",
       "    console.log(\"Bokeh: ERROR: autoload.js configured with elementid '61d9c7c6-be4d-4601-852d-75612961aa1a' but no matching script tag was found. \")\n",
       "    return false;\n",
       "  }\n",
       "\n",
       "  var js_urls = [\"https://cdn.pydata.org/bokeh/release/bokeh-0.12.16.min.js\", \"https://cdn.pydata.org/bokeh/release/bokeh-widgets-0.12.16.min.js\", \"https://cdn.pydata.org/bokeh/release/bokeh-tables-0.12.16.min.js\", \"https://cdn.pydata.org/bokeh/release/bokeh-gl-0.12.16.min.js\"];\n",
       "\n",
       "  var inline_js = [\n",
       "    function(Bokeh) {\n",
       "      Bokeh.set_log_level(\"info\");\n",
       "    },\n",
       "    \n",
       "    function(Bokeh) {\n",
       "      \n",
       "    },\n",
       "    function(Bokeh) {\n",
       "      console.log(\"Bokeh: injecting CSS: https://cdn.pydata.org/bokeh/release/bokeh-0.12.16.min.css\");\n",
       "      Bokeh.embed.inject_css(\"https://cdn.pydata.org/bokeh/release/bokeh-0.12.16.min.css\");\n",
       "      console.log(\"Bokeh: injecting CSS: https://cdn.pydata.org/bokeh/release/bokeh-widgets-0.12.16.min.css\");\n",
       "      Bokeh.embed.inject_css(\"https://cdn.pydata.org/bokeh/release/bokeh-widgets-0.12.16.min.css\");\n",
       "      console.log(\"Bokeh: injecting CSS: https://cdn.pydata.org/bokeh/release/bokeh-tables-0.12.16.min.css\");\n",
       "      Bokeh.embed.inject_css(\"https://cdn.pydata.org/bokeh/release/bokeh-tables-0.12.16.min.css\");\n",
       "    }\n",
       "  ];\n",
       "\n",
       "  function run_inline_js() {\n",
       "    \n",
       "    if ((root.Bokeh !== undefined) || (force === true)) {\n",
       "      for (var i = 0; i < inline_js.length; i++) {\n",
       "        inline_js[i].call(root, root.Bokeh);\n",
       "      }if (force === true) {\n",
       "        display_loaded();\n",
       "      }} else if (Date.now() < root._bokeh_timeout) {\n",
       "      setTimeout(run_inline_js, 100);\n",
       "    } else if (!root._bokeh_failed_load) {\n",
       "      console.log(\"Bokeh: BokehJS failed to load within specified timeout.\");\n",
       "      root._bokeh_failed_load = true;\n",
       "    } else if (force !== true) {\n",
       "      var cell = $(document.getElementById(\"61d9c7c6-be4d-4601-852d-75612961aa1a\")).parents('.cell').data().cell;\n",
       "      cell.output_area.append_execute_result(NB_LOAD_WARNING)\n",
       "    }\n",
       "\n",
       "  }\n",
       "\n",
       "  if (root._bokeh_is_loading === 0) {\n",
       "    console.log(\"Bokeh: BokehJS loaded, going straight to plotting\");\n",
       "    run_inline_js();\n",
       "  } else {\n",
       "    load_libs(js_urls, function() {\n",
       "      console.log(\"Bokeh: BokehJS plotting callback run at\", now());\n",
       "      run_inline_js();\n",
       "    });\n",
       "  }\n",
       "}(window));"
      ],
      "application/vnd.bokehjs_load.v0+json": "\n(function(root) {\n  function now() {\n    return new Date();\n  }\n\n  var force = true;\n\n  if (typeof (root._bokeh_onload_callbacks) === \"undefined\" || force === true) {\n    root._bokeh_onload_callbacks = [];\n    root._bokeh_is_loading = undefined;\n  }\n\n  \n\n  \n  if (typeof (root._bokeh_timeout) === \"undefined\" || force === true) {\n    root._bokeh_timeout = Date.now() + 5000;\n    root._bokeh_failed_load = false;\n  }\n\n  var NB_LOAD_WARNING = {'data': {'text/html':\n     \"<div style='background-color: #fdd'>\\n\"+\n     \"<p>\\n\"+\n     \"BokehJS does not appear to have successfully loaded. If loading BokehJS from CDN, this \\n\"+\n     \"may be due to a slow or bad network connection. Possible fixes:\\n\"+\n     \"</p>\\n\"+\n     \"<ul>\\n\"+\n     \"<li>re-rerun `output_notebook()` to attempt to load from CDN again, or</li>\\n\"+\n     \"<li>use INLINE resources instead, as so:</li>\\n\"+\n     \"</ul>\\n\"+\n     \"<code>\\n\"+\n     \"from bokeh.resources import INLINE\\n\"+\n     \"output_notebook(resources=INLINE)\\n\"+\n     \"</code>\\n\"+\n     \"</div>\"}};\n\n  function display_loaded() {\n    var el = document.getElementById(\"61d9c7c6-be4d-4601-852d-75612961aa1a\");\n    if (el != null) {\n      el.textContent = \"BokehJS is loading...\";\n    }\n    if (root.Bokeh !== undefined) {\n      if (el != null) {\n        el.textContent = \"BokehJS \" + root.Bokeh.version + \" successfully loaded.\";\n      }\n    } else if (Date.now() < root._bokeh_timeout) {\n      setTimeout(display_loaded, 100)\n    }\n  }\n\n\n  function run_callbacks() {\n    try {\n      root._bokeh_onload_callbacks.forEach(function(callback) { callback() });\n    }\n    finally {\n      delete root._bokeh_onload_callbacks\n    }\n    console.info(\"Bokeh: all callbacks have finished\");\n  }\n\n  function load_libs(js_urls, callback) {\n    root._bokeh_onload_callbacks.push(callback);\n    if (root._bokeh_is_loading > 0) {\n      console.log(\"Bokeh: BokehJS is being loaded, scheduling callback at\", now());\n      return null;\n    }\n    if (js_urls == null || js_urls.length === 0) {\n      run_callbacks();\n      return null;\n    }\n    console.log(\"Bokeh: BokehJS not loaded, scheduling load and callback at\", now());\n    root._bokeh_is_loading = js_urls.length;\n    for (var i = 0; i < js_urls.length; i++) {\n      var url = js_urls[i];\n      var s = document.createElement('script');\n      s.src = url;\n      s.async = false;\n      s.onreadystatechange = s.onload = function() {\n        root._bokeh_is_loading--;\n        if (root._bokeh_is_loading === 0) {\n          console.log(\"Bokeh: all BokehJS libraries loaded\");\n          run_callbacks()\n        }\n      };\n      s.onerror = function() {\n        console.warn(\"failed to load library \" + url);\n      };\n      console.log(\"Bokeh: injecting script tag for BokehJS library: \", url);\n      document.getElementsByTagName(\"head\")[0].appendChild(s);\n    }\n  };var element = document.getElementById(\"61d9c7c6-be4d-4601-852d-75612961aa1a\");\n  if (element == null) {\n    console.log(\"Bokeh: ERROR: autoload.js configured with elementid '61d9c7c6-be4d-4601-852d-75612961aa1a' but no matching script tag was found. \")\n    return false;\n  }\n\n  var js_urls = [\"https://cdn.pydata.org/bokeh/release/bokeh-0.12.16.min.js\", \"https://cdn.pydata.org/bokeh/release/bokeh-widgets-0.12.16.min.js\", \"https://cdn.pydata.org/bokeh/release/bokeh-tables-0.12.16.min.js\", \"https://cdn.pydata.org/bokeh/release/bokeh-gl-0.12.16.min.js\"];\n\n  var inline_js = [\n    function(Bokeh) {\n      Bokeh.set_log_level(\"info\");\n    },\n    \n    function(Bokeh) {\n      \n    },\n    function(Bokeh) {\n      console.log(\"Bokeh: injecting CSS: https://cdn.pydata.org/bokeh/release/bokeh-0.12.16.min.css\");\n      Bokeh.embed.inject_css(\"https://cdn.pydata.org/bokeh/release/bokeh-0.12.16.min.css\");\n      console.log(\"Bokeh: injecting CSS: https://cdn.pydata.org/bokeh/release/bokeh-widgets-0.12.16.min.css\");\n      Bokeh.embed.inject_css(\"https://cdn.pydata.org/bokeh/release/bokeh-widgets-0.12.16.min.css\");\n      console.log(\"Bokeh: injecting CSS: https://cdn.pydata.org/bokeh/release/bokeh-tables-0.12.16.min.css\");\n      Bokeh.embed.inject_css(\"https://cdn.pydata.org/bokeh/release/bokeh-tables-0.12.16.min.css\");\n    }\n  ];\n\n  function run_inline_js() {\n    \n    if ((root.Bokeh !== undefined) || (force === true)) {\n      for (var i = 0; i < inline_js.length; i++) {\n        inline_js[i].call(root, root.Bokeh);\n      }if (force === true) {\n        display_loaded();\n      }} else if (Date.now() < root._bokeh_timeout) {\n      setTimeout(run_inline_js, 100);\n    } else if (!root._bokeh_failed_load) {\n      console.log(\"Bokeh: BokehJS failed to load within specified timeout.\");\n      root._bokeh_failed_load = true;\n    } else if (force !== true) {\n      var cell = $(document.getElementById(\"61d9c7c6-be4d-4601-852d-75612961aa1a\")).parents('.cell').data().cell;\n      cell.output_area.append_execute_result(NB_LOAD_WARNING)\n    }\n\n  }\n\n  if (root._bokeh_is_loading === 0) {\n    console.log(\"Bokeh: BokehJS loaded, going straight to plotting\");\n    run_inline_js();\n  } else {\n    load_libs(js_urls, function() {\n      console.log(\"Bokeh: BokehJS plotting callback run at\", now());\n      run_inline_js();\n    });\n  }\n}(window));"
     },
     "metadata": {},
     "output_type": "display_data"
    }
   ],
   "source": [
    "from ipywidgets import interact\n",
    "import numpy as np\n",
    "from bokeh.models.annotations import Title\n",
    "\n",
    "from bokeh.io import push_notebook, show, output_notebook\n",
    "from bokeh.plotting import figure\n",
    "\n",
    "output_notebook()"
   ]
  },
  {
   "cell_type": "code",
   "execution_count": 44,
   "metadata": {},
   "outputs": [],
   "source": [
    "y = find_alpha(calc_func(T_eV, p = 0.1, m = m_e))"
   ]
  },
  {
   "cell_type": "code",
   "execution_count": 45,
   "metadata": {},
   "outputs": [],
   "source": [
    "fig = figure(title=\"simple line example\", plot_height=300, plot_width=600, y_range=(-0.01,1),\n",
    "           background_fill_color='#efefef', x_axis_label='temp', y_axis_label='Ionization coef')\n",
    "r = fig.line(T, y, color=\"#8888cc\", line_width=2.5, alpha=1)"
   ]
  },
  {
   "cell_type": "code",
   "execution_count": 46,
   "metadata": {},
   "outputs": [],
   "source": [
    "def update(f, p=0.1):\n",
    "    if   f == \"Helium\": I = 24.5874\n",
    "    elif f == \"Neon\": I = 21.5645\n",
    "    r.data_source.data['y'] = find_alpha(calc_func(T_eV, p, m = m_e, I = I))\n",
    "    push_notebook()"
   ]
  },
  {
   "cell_type": "code",
   "execution_count": 47,
   "metadata": {},
   "outputs": [
    {
     "data": {
      "text/html": [
       "\n",
       "<div class=\"bk-root\">\n",
       "    <div class=\"bk-plotdiv\" id=\"b618d0e8-6feb-45ef-ac15-b51d97a8aa7f\"></div>\n",
       "</div>"
      ]
     },
     "metadata": {},
     "output_type": "display_data"
    },
    {
     "data": {
      "application/javascript": [
       "(function(root) {\n",
       "  function embed_document(root) {\n",
       "    \n",
       "  var docs_json = {\"edc66849-c38a-4270-99d5-916cd5a243b2\":{\"roots\":{\"references\":[{\"attributes\":{\"background_fill_color\":{\"value\":\"#efefef\"},\"below\":[{\"id\":\"78d7df44-5a58-4bf2-8b32-0f23fec64946\",\"type\":\"LinearAxis\"}],\"left\":[{\"id\":\"02e54551-8c73-4945-80cb-927d74924f46\",\"type\":\"LinearAxis\"}],\"plot_height\":300,\"renderers\":[{\"id\":\"78d7df44-5a58-4bf2-8b32-0f23fec64946\",\"type\":\"LinearAxis\"},{\"id\":\"aa28712f-8181-4780-886e-fcc295753b3b\",\"type\":\"Grid\"},{\"id\":\"02e54551-8c73-4945-80cb-927d74924f46\",\"type\":\"LinearAxis\"},{\"id\":\"d608da3f-b1d1-414c-852d-955045b4a583\",\"type\":\"Grid\"},{\"id\":\"71f128ac-4fe7-4bd5-9421-b37ec8d6b85c\",\"type\":\"BoxAnnotation\"},{\"id\":\"bf8c4174-4423-4246-973d-15f436784832\",\"type\":\"GlyphRenderer\"}],\"title\":{\"id\":\"da0b7814-6277-4df7-b9be-d403a9130471\",\"type\":\"Title\"},\"toolbar\":{\"id\":\"e3cdce1b-facd-497a-85b0-8c453e1deae4\",\"type\":\"Toolbar\"},\"x_range\":{\"id\":\"90f2f812-680c-4d2f-90b6-8c7dd1ef9822\",\"type\":\"DataRange1d\"},\"x_scale\":{\"id\":\"3663c600-ae37-4ce7-ab39-31dcbb27f373\",\"type\":\"LinearScale\"},\"y_range\":{\"id\":\"49b2e850-ab57-4113-b376-3a1d66d3c562\",\"type\":\"Range1d\"},\"y_scale\":{\"id\":\"13e8fdf2-ebb8-4e58-b821-6594af03394a\",\"type\":\"LinearScale\"}},\"id\":\"ebb6153d-4af8-4d20-90c0-2145541c30e9\",\"subtype\":\"Figure\",\"type\":\"Plot\"},{\"attributes\":{},\"id\":\"ae13e005-fa9b-45b9-9910-a5068551234a\",\"type\":\"HelpTool\"},{\"attributes\":{},\"id\":\"185f3294-9f4e-4d01-b737-2264320cc938\",\"type\":\"WheelZoomTool\"},{\"attributes\":{\"axis_label\":\"temp\",\"formatter\":{\"id\":\"c657c617-81a6-4d79-ab1b-afb377c5cde2\",\"type\":\"BasicTickFormatter\"},\"plot\":{\"id\":\"ebb6153d-4af8-4d20-90c0-2145541c30e9\",\"subtype\":\"Figure\",\"type\":\"Plot\"},\"ticker\":{\"id\":\"6f1a2174-9ac6-47b3-949f-638dab840b1b\",\"type\":\"BasicTicker\"}},\"id\":\"78d7df44-5a58-4bf2-8b32-0f23fec64946\",\"type\":\"LinearAxis\"},{\"attributes\":{\"line_color\":\"#8888cc\",\"line_width\":2.5,\"x\":{\"field\":\"x\"},\"y\":{\"field\":\"y\"}},\"id\":\"5bb9b422-de7e-4268-9123-8b675dec6761\",\"type\":\"Line\"},{\"attributes\":{},\"id\":\"876fe4b7-85a5-4b7e-aa42-691752731d48\",\"type\":\"BasicTicker\"},{\"attributes\":{\"data_source\":{\"id\":\"ffc55761-23ba-4ece-a05c-567b90749dd7\",\"type\":\"ColumnDataSource\"},\"glyph\":{\"id\":\"5bb9b422-de7e-4268-9123-8b675dec6761\",\"type\":\"Line\"},\"hover_glyph\":null,\"muted_glyph\":null,\"nonselection_glyph\":{\"id\":\"f39a5ac1-bdbf-4b31-aed3-55e489fea73b\",\"type\":\"Line\"},\"selection_glyph\":null,\"view\":{\"id\":\"5cc3a1a1-39f6-452c-87f9-e10b16c5cf42\",\"type\":\"CDSView\"}},\"id\":\"bf8c4174-4423-4246-973d-15f436784832\",\"type\":\"GlyphRenderer\"},{\"attributes\":{\"bottom_units\":\"screen\",\"fill_alpha\":{\"value\":0.5},\"fill_color\":{\"value\":\"lightgrey\"},\"left_units\":\"screen\",\"level\":\"overlay\",\"line_alpha\":{\"value\":1.0},\"line_color\":{\"value\":\"black\"},\"line_dash\":[4,4],\"line_width\":{\"value\":2},\"plot\":null,\"render_mode\":\"css\",\"right_units\":\"screen\",\"top_units\":\"screen\"},\"id\":\"71f128ac-4fe7-4bd5-9421-b37ec8d6b85c\",\"type\":\"BoxAnnotation\"},{\"attributes\":{\"source\":{\"id\":\"ffc55761-23ba-4ece-a05c-567b90749dd7\",\"type\":\"ColumnDataSource\"}},\"id\":\"5cc3a1a1-39f6-452c-87f9-e10b16c5cf42\",\"type\":\"CDSView\"},{\"attributes\":{},\"id\":\"a66307dc-5e11-4f23-a556-b304586b2dbc\",\"type\":\"PanTool\"},{\"attributes\":{\"callback\":null,\"data\":{\"x\":{\"__ndarray__\":\"AAAAAABwp0D7lQK1fiWrQPYrBWr92q5A+OCDDz5IsUD2KwVq/SKzQPN2hsS8/bRA8MEHH3zYtkDuDIl5O7O4QOxXCtT6jbpA6aKLLrpovEDm7QyJeUO+QHIcx3EcD8BA8MEHH3z8wEBwZ0jM2+nBQO4MiXk718JAbbLJJpvEw0DsVwrU+rHEQGr9SoFan8VA6aKLLrqMxkBoSMzbGXrHQObtDIl5Z8hAZZNNNtlUyUDkOI7jOELKQGPezpCYL8tA4YMPPvgczEBgKVDrVwrNQN/OkJi3981AXXTRRRflzkDcGRLzdtLPQK5fKVDrX9BAbbLJJpvW0EAsBWr9Sk3RQOxXCtT6w9FAq6qqqqo60kBq/UqBWrHSQCpQ61cKKNNA6aKLLrqe00Co9SsFahXUQGhIzNsZjNRAJ5tssskC1UDm7QyJeXnVQKZArV8p8NVAZZNNNtlm1kAk5u0Mid3WQOQ4juM4VNdAo4suuujK10Bj3s6QmEHYQCIxb2dIuNhA4YMPPvgu2UCh1q8UqKXZQGApUOtXHNpAH3zwwQeT2kDfzpCYtwnbQJ4hMW9ngNtAXXTRRRf320Adx3Ecx23cQNwZEvN25NxAm2yyySZb3UBbv1Kg1tHdQBoS83aGSN5A2mSTTTa/3kCZtzMk5jXfQFgK1PqVrN9AjC666KIR4EDsVwrU+kzgQEuBWr9SiOBAq6qqqqrD4EAK1PqVAv/gQGr9SoFaOuFAyiabbLJ14UAqUOtXCrHhQIl5O0Ni7OFA6aKLLron4kBJzNsZEmPiQKj1KwVqnuJACB988MHZ4kBoSMzbGRXjQMdxHMdxUONAJ5tsssmL40CHxLydIcfjQObtDIl5AuRARhdddNE95ECmQK1fKXnkQAVq/UqBtORAZZNNNtnv5EDFvJ0hMSvlQCTm7QyJZuVAhA8++OCh5UDkOI7jON3lQENi3s6QGOZAo4suuuhT5kADtX6lQI/mQGPezpCYyuZAwgcffPAF50AiMW9nSEHnQIJav1KgfOdA4YMPPvi350BBrV8pUPPnQKHWrxSoLuhAAAAAAABq6EA=\",\"dtype\":\"float64\",\"shape\":[100]},\"y\":{\"__ndarray__\":\"+yNfK7MU3jsjBaIARWt3PEPoQp4e4O08J7OGBefzST0vnWHyYPeUPQ/dycAiRtM9BKG7shYcBz6X845QGuIzPsQYJQ4jTlo+D+SwUnQofD703G+Y1liZPjaXadokxLM+aW+E985Vyz6mOYqBchLhPmOvUPWNjPM+ZthPo2PFBD9VPOzuqK4UP5T9eJKGdSM/ZeW5QUhrMT8tMKpcHdg9P67GX+ZXlkg/4Wgt5ymQUz8fmnI21ixeP4cckwPAoGY/5KjFwT6LcD+1CQgafaR3P54Wvwtti4A/1cIoRQK4hj82yeP+laiOP7mJ/7TOW5Q/wahFMqqkmj+cd7SP2TKhP3eohaoQ7aU/8mjtgoCgqz+NQzYDFjexP6FcU5n4O7U/8BDgdtDvuT/PLTqK3WK/P9Lurv3t0cI//zUj5XJfxj+pa4t4Bl7KPwuh3obazs4/2uxKmbHX0T/HCzqDO3zUP2x9KwzPTtc/5JqiF2JG2j8KxPaMQVfdP7Uh44bKOeA/baGsuyDG4T8QTT3MCEnjPzBWp8h6u+Q/ghMNQ48X5j/7Eyvk4VjnP3oZQQC7fOg/f3MYLwGC6T9OxNrt/2jqPylfVRUWM+s/e2UTUl7i6z+cSkkUX3nsP+8ZXnTJ+uw/SpmgX0lp7T9XxAztZcftP9erlvpuF+4/KoS9tnRb7j+yJTj7RZXuP69VfPJyxu4/Ys2GJ1Lw7j9D4CazBhTvP0IAZa+GMu8/MKyob6FM7z/smKI3BWPvP1lZzlFEdu8/NV5ZftmG7z9lwRDBK5XvP4jlJJyRoe8/FOSUyFOs7z+7N5t9r7XvP+gIm1fYve8/9AuE7fnE7z/oGtYhOcvvP/UenDq10O8/IwkByojV7z8dUplvytnvP3QBJXmN3e8/Oe9oaOLg7z82GMZi1+PvP6dmZo545u8/n9cpYNDo7z/HMfDc5+rvP1zWZdDG7O8/ZmQZ+3Pu7z95WVA59e/vP3yKz6NP8e8/jq+Wq4fy7z/pNWIxofPvP3Zcopmf9O8/x9543YX17z+D8zWZVvbvP0IyuRgU9+8/HUoKYsD37z8=\",\"dtype\":\"float64\",\"shape\":[100]}},\"selected\":{\"id\":\"58092a0c-b0e7-4145-88c3-2c9ae5006a0e\",\"type\":\"Selection\"},\"selection_policy\":{\"id\":\"f8615464-760e-4ba9-942c-dc1edb740003\",\"type\":\"UnionRenderers\"}},\"id\":\"ffc55761-23ba-4ece-a05c-567b90749dd7\",\"type\":\"ColumnDataSource\"},{\"attributes\":{\"line_alpha\":0.1,\"line_color\":\"#1f77b4\",\"line_width\":2.5,\"x\":{\"field\":\"x\"},\"y\":{\"field\":\"y\"}},\"id\":\"f39a5ac1-bdbf-4b31-aed3-55e489fea73b\",\"type\":\"Line\"},{\"attributes\":{\"overlay\":{\"id\":\"71f128ac-4fe7-4bd5-9421-b37ec8d6b85c\",\"type\":\"BoxAnnotation\"}},\"id\":\"afd8b4a2-1b74-475a-88e9-c87c816e7475\",\"type\":\"BoxZoomTool\"},{\"attributes\":{\"axis_label\":\"Ionization coef\",\"formatter\":{\"id\":\"80fb79e6-ea27-4936-bef4-da854790f626\",\"type\":\"BasicTickFormatter\"},\"plot\":{\"id\":\"ebb6153d-4af8-4d20-90c0-2145541c30e9\",\"subtype\":\"Figure\",\"type\":\"Plot\"},\"ticker\":{\"id\":\"876fe4b7-85a5-4b7e-aa42-691752731d48\",\"type\":\"BasicTicker\"}},\"id\":\"02e54551-8c73-4945-80cb-927d74924f46\",\"type\":\"LinearAxis\"},{\"attributes\":{},\"id\":\"c657c617-81a6-4d79-ab1b-afb377c5cde2\",\"type\":\"BasicTickFormatter\"},{\"attributes\":{},\"id\":\"f8615464-760e-4ba9-942c-dc1edb740003\",\"type\":\"UnionRenderers\"},{\"attributes\":{\"dimension\":1,\"plot\":{\"id\":\"ebb6153d-4af8-4d20-90c0-2145541c30e9\",\"subtype\":\"Figure\",\"type\":\"Plot\"},\"ticker\":{\"id\":\"876fe4b7-85a5-4b7e-aa42-691752731d48\",\"type\":\"BasicTicker\"}},\"id\":\"d608da3f-b1d1-414c-852d-955045b4a583\",\"type\":\"Grid\"},{\"attributes\":{},\"id\":\"80fb79e6-ea27-4936-bef4-da854790f626\",\"type\":\"BasicTickFormatter\"},{\"attributes\":{\"callback\":null,\"start\":-0.01},\"id\":\"49b2e850-ab57-4113-b376-3a1d66d3c562\",\"type\":\"Range1d\"},{\"attributes\":{\"callback\":null},\"id\":\"90f2f812-680c-4d2f-90b6-8c7dd1ef9822\",\"type\":\"DataRange1d\"},{\"attributes\":{\"plot\":{\"id\":\"ebb6153d-4af8-4d20-90c0-2145541c30e9\",\"subtype\":\"Figure\",\"type\":\"Plot\"},\"ticker\":{\"id\":\"6f1a2174-9ac6-47b3-949f-638dab840b1b\",\"type\":\"BasicTicker\"}},\"id\":\"aa28712f-8181-4780-886e-fcc295753b3b\",\"type\":\"Grid\"},{\"attributes\":{},\"id\":\"58092a0c-b0e7-4145-88c3-2c9ae5006a0e\",\"type\":\"Selection\"},{\"attributes\":{},\"id\":\"8bb32c6e-bea9-43c8-8595-d2b6a741b00c\",\"type\":\"SaveTool\"},{\"attributes\":{},\"id\":\"3663c600-ae37-4ce7-ab39-31dcbb27f373\",\"type\":\"LinearScale\"},{\"attributes\":{},\"id\":\"13e8fdf2-ebb8-4e58-b821-6594af03394a\",\"type\":\"LinearScale\"},{\"attributes\":{},\"id\":\"9c94ba6e-d192-48d3-922b-b11b1f259f62\",\"type\":\"ResetTool\"},{\"attributes\":{},\"id\":\"6f1a2174-9ac6-47b3-949f-638dab840b1b\",\"type\":\"BasicTicker\"},{\"attributes\":{\"active_drag\":\"auto\",\"active_inspect\":\"auto\",\"active_scroll\":\"auto\",\"active_tap\":\"auto\",\"tools\":[{\"id\":\"a66307dc-5e11-4f23-a556-b304586b2dbc\",\"type\":\"PanTool\"},{\"id\":\"185f3294-9f4e-4d01-b737-2264320cc938\",\"type\":\"WheelZoomTool\"},{\"id\":\"afd8b4a2-1b74-475a-88e9-c87c816e7475\",\"type\":\"BoxZoomTool\"},{\"id\":\"8bb32c6e-bea9-43c8-8595-d2b6a741b00c\",\"type\":\"SaveTool\"},{\"id\":\"9c94ba6e-d192-48d3-922b-b11b1f259f62\",\"type\":\"ResetTool\"},{\"id\":\"ae13e005-fa9b-45b9-9910-a5068551234a\",\"type\":\"HelpTool\"}]},\"id\":\"e3cdce1b-facd-497a-85b0-8c453e1deae4\",\"type\":\"Toolbar\"},{\"attributes\":{\"plot\":null,\"text\":\"simple line example\"},\"id\":\"da0b7814-6277-4df7-b9be-d403a9130471\",\"type\":\"Title\"}],\"root_ids\":[\"ebb6153d-4af8-4d20-90c0-2145541c30e9\"]},\"title\":\"Bokeh Application\",\"version\":\"0.12.16\"}};\n",
       "  var render_items = [{\"docid\":\"edc66849-c38a-4270-99d5-916cd5a243b2\",\"elementid\":\"b618d0e8-6feb-45ef-ac15-b51d97a8aa7f\",\"modelid\":\"ebb6153d-4af8-4d20-90c0-2145541c30e9\",\"notebook_comms_target\":\"7a543632-b27d-403f-9336-e7deadb8d16b\"}];\n",
       "  root.Bokeh.embed.embed_items_notebook(docs_json, render_items);\n",
       "\n",
       "  }\n",
       "  if (root.Bokeh !== undefined) {\n",
       "    embed_document(root);\n",
       "  } else {\n",
       "    var attempts = 0;\n",
       "    var timer = setInterval(function(root) {\n",
       "      if (root.Bokeh !== undefined) {\n",
       "        embed_document(root);\n",
       "        clearInterval(timer);\n",
       "      }\n",
       "      attempts++;\n",
       "      if (attempts > 100) {\n",
       "        console.log(\"Bokeh: ERROR: Unable to run BokehJS code because BokehJS library is missing\")\n",
       "        clearInterval(timer);\n",
       "      }\n",
       "    }, 10, root)\n",
       "  }\n",
       "})(window);"
      ],
      "application/vnd.bokehjs_exec.v0+json": ""
     },
     "metadata": {
      "application/vnd.bokehjs_exec.v0+json": {
       "id": "ebb6153d-4af8-4d20-90c0-2145541c30e9"
      }
     },
     "output_type": "display_data"
    },
    {
     "data": {
      "application/vnd.jupyter.widget-view+json": {
       "model_id": "7edaa5727eda42d088b39fcfd5bd545d",
       "version_major": 2,
       "version_minor": 0
      },
      "text/plain": [
       "interactive(children=(Dropdown(description='f', options=('Helium', 'Neon'), value='Helium'), FloatSlider(value…"
      ]
     },
     "metadata": {},
     "output_type": "display_data"
    },
    {
     "data": {
      "text/plain": [
       "<function __main__.update(f, p=0.1)>"
      ]
     },
     "execution_count": 47,
     "metadata": {},
     "output_type": "execute_result"
    }
   ],
   "source": [
    "show(fig,  notebook_handle =True)\n",
    "interact(update, f=[\"Helium\", \"Neon\"], p=(0.1,1,0.01))"
   ]
  },
  {
   "cell_type": "code",
   "execution_count": 57,
   "metadata": {},
   "outputs": [
    {
     "data": {
      "text/html": [
       "\n",
       "<div class=\"bk-root\">\n",
       "    <div class=\"bk-plotdiv\" id=\"0621cbbd-d256-41f7-937e-7e743b79601f\"></div>\n",
       "</div>"
      ]
     },
     "metadata": {},
     "output_type": "display_data"
    },
    {
     "data": {
      "application/javascript": [
       "(function(root) {\n",
       "  function embed_document(root) {\n",
       "    \n",
       "  var docs_json = {\"858505d7-617e-4fcd-8f95-1febd29fa6be\":{\"roots\":{\"references\":[{\"attributes\":{},\"id\":\"69049f6d-40da-4759-ada5-a53de693ce4b\",\"type\":\"BasicTickFormatter\"},{\"attributes\":{\"line_alpha\":0.7,\"line_color\":\"blue\",\"line_width\":2.5,\"x\":{\"field\":\"x\"},\"y\":{\"field\":\"y\"}},\"id\":\"919c4cae-66db-49fa-9624-2c5dc854c8bb\",\"type\":\"Line\"},{\"attributes\":{},\"id\":\"f0b4c860-e1b7-41ba-ab7a-4497e0272e6a\",\"type\":\"Selection\"},{\"attributes\":{\"label\":{\"value\":\"Helium\"},\"renderers\":[{\"id\":\"d20fca35-2aad-402b-991a-52c5bdbc2493\",\"type\":\"GlyphRenderer\"}]},\"id\":\"e3d5078a-2e4c-411b-9d24-b74b3b4c3e2d\",\"type\":\"LegendItem\"},{\"attributes\":{\"callback\":null,\"data\":{\"x\":{\"__ndarray__\":\"AAAAAABwp0D7lQK1fiWrQPYrBWr92q5A+OCDDz5IsUD2KwVq/SKzQPN2hsS8/bRA8MEHH3zYtkDuDIl5O7O4QOxXCtT6jbpA6aKLLrpovEDm7QyJeUO+QHIcx3EcD8BA8MEHH3z8wEBwZ0jM2+nBQO4MiXk718JAbbLJJpvEw0DsVwrU+rHEQGr9SoFan8VA6aKLLrqMxkBoSMzbGXrHQObtDIl5Z8hAZZNNNtlUyUDkOI7jOELKQGPezpCYL8tA4YMPPvgczEBgKVDrVwrNQN/OkJi3981AXXTRRRflzkDcGRLzdtLPQK5fKVDrX9BAbbLJJpvW0EAsBWr9Sk3RQOxXCtT6w9FAq6qqqqo60kBq/UqBWrHSQCpQ61cKKNNA6aKLLrqe00Co9SsFahXUQGhIzNsZjNRAJ5tssskC1UDm7QyJeXnVQKZArV8p8NVAZZNNNtlm1kAk5u0Mid3WQOQ4juM4VNdAo4suuujK10Bj3s6QmEHYQCIxb2dIuNhA4YMPPvgu2UCh1q8UqKXZQGApUOtXHNpAH3zwwQeT2kDfzpCYtwnbQJ4hMW9ngNtAXXTRRRf320Adx3Ecx23cQNwZEvN25NxAm2yyySZb3UBbv1Kg1tHdQBoS83aGSN5A2mSTTTa/3kCZtzMk5jXfQFgK1PqVrN9AjC666KIR4EDsVwrU+kzgQEuBWr9SiOBAq6qqqqrD4EAK1PqVAv/gQGr9SoFaOuFAyiabbLJ14UAqUOtXCrHhQIl5O0Ni7OFA6aKLLron4kBJzNsZEmPiQKj1KwVqnuJACB988MHZ4kBoSMzbGRXjQMdxHMdxUONAJ5tsssmL40CHxLydIcfjQObtDIl5AuRARhdddNE95ECmQK1fKXnkQAVq/UqBtORAZZNNNtnv5EDFvJ0hMSvlQCTm7QyJZuVAhA8++OCh5UDkOI7jON3lQENi3s6QGOZAo4suuuhT5kADtX6lQI/mQGPezpCYyuZAwgcffPAF50AiMW9nSEHnQIJav1KgfOdA4YMPPvi350BBrV8pUPPnQKHWrxSoLuhAAAAAAABq6EA=\",\"dtype\":\"float64\",\"shape\":[100]},\"y\":{\"__ndarray__\":\"zN2cStRVZDxYBUgW4HzsPOOUnHNPz1M9xPrpIclepT0BpSPxiYPnPfroNEsxgh8+oe/CP0v8TD4x6q0LE+lzPsBRkdvBs5U+tAgQWzahsz4cqMttI3zOPm55lA0X3OQ+YLySlyat+T6F0K2Ji+QMP1fXIhznHB4/+4zh8CZhLT8VKc9YgBE7P+ZxoInnuEc/9aAgjlzlUz/kh+6lIA1gP6nFc310BWk/Er/VW0Xpcj//mylIGc97P3SNgtQN8oM/H0PkFxr6iz9x5U+57jmTP4KQsqfN8Jk/RKsZTcg0oT8/QgjuKnmmP6hc7nFC76w/nB88JlZhsj93yuUg6w+3P3ocT9wxmbw/08hXTrqIwT8QJl6F9UTFP+5VGHVch8k/y4TtpD1Szj9hieVqYtHRP21u9F7Qt9Q/K3Wh3vrT1z/7jT/2fRnbP7FxvnhTeN4/KdtC3+Pu4D/WFeagAZviP2JiMNn1NuQ/iWaBF3265T/1nsJrUB/nP66eS0B+Yeg/1nH8uGN/6T9I9w+TWnnqP54jXc88Ues/rWYlBd8J7D+GQiL3mKbsP5N5t1/oKu0/bwTQYTCa7T9/47VCkvftP8137afZRe4/L67aZHaH7j/BesHQfr7uP3G0TuG27O4/UqUSdpkT7z+xPTI0YjTvP+7h7wAXUO8/Qpw9n5Bn7z+FiG0+gnvvP0NBfvN/jO8/WC3jLQSb7z93Y41DdKfvP8TwfDMksu8/agqQvVm77z8mtKjrTsPvP9FtzyQ0yu8/n7lg3zHQ7z+ole4DatXvP4msdw/52e8/Pzv5APfd7z82kSwceOHvP+9pbImN5O8/oxQ92UXn7z9B47dwrenvPxHvGuPO6+8/SHvvO7Pt7z+kLpI8Yu/vPyqIYY/i8O8/lilq8jny7z8hxhBbbfPvP1Cc8hOB9O8/pQ781Xj17z/+hobdV/bvP78wKfwg9+8/RofJp9b37z+J2V8He/jvPxOfz/0P+e8/m+wiM5f57z8MyWocEvrvP6EGewKC+u8/viCvB+j67z9mGN4sRfvvPxATnVWa++8/m1vrS+j77z8=\",\"dtype\":\"float64\",\"shape\":[100]}},\"selected\":{\"id\":\"1702c9ed-ba80-41ba-b210-a5b118c4a7a2\",\"type\":\"Selection\"},\"selection_policy\":{\"id\":\"1c7e7335-64a9-46fd-a309-6bfbf49f2b84\",\"type\":\"UnionRenderers\"}},\"id\":\"be6c4935-c570-4dd7-8d80-16f043239498\",\"type\":\"ColumnDataSource\"},{\"attributes\":{\"bottom_units\":\"screen\",\"fill_alpha\":{\"value\":0.5},\"fill_color\":{\"value\":\"lightgrey\"},\"left_units\":\"screen\",\"level\":\"overlay\",\"line_alpha\":{\"value\":1.0},\"line_color\":{\"value\":\"black\"},\"line_dash\":[4,4],\"line_width\":{\"value\":2},\"plot\":null,\"render_mode\":\"css\",\"right_units\":\"screen\",\"top_units\":\"screen\"},\"id\":\"a1294ed3-8f24-4dd9-810d-9d8af4b2717d\",\"type\":\"BoxAnnotation\"},{\"attributes\":{},\"id\":\"ff91153a-1560-4f91-83bd-c2affd152ab9\",\"type\":\"PanTool\"},{\"attributes\":{\"source\":{\"id\":\"0cab9318-a00f-4b99-b62f-d0e3ac0ff606\",\"type\":\"ColumnDataSource\"}},\"id\":\"17681d5c-d510-455b-9979-b429d8f9513e\",\"type\":\"CDSView\"},{\"attributes\":{},\"id\":\"0c34d9da-6399-43ec-aa80-a94f19c18017\",\"type\":\"WheelZoomTool\"},{\"attributes\":{\"overlay\":{\"id\":\"a1294ed3-8f24-4dd9-810d-9d8af4b2717d\",\"type\":\"BoxAnnotation\"}},\"id\":\"95cd3104-8d82-470d-9ffd-600912f59d96\",\"type\":\"BoxZoomTool\"},{\"attributes\":{},\"id\":\"34c283dd-206d-40a7-bbbb-5fe2c3f117c3\",\"type\":\"SaveTool\"},{\"attributes\":{},\"id\":\"086234c2-d1fd-404e-bf37-b144b3e964fb\",\"type\":\"ResetTool\"},{\"attributes\":{},\"id\":\"160f71cf-ebaf-40a5-9d9b-d2d83020159d\",\"type\":\"HelpTool\"},{\"attributes\":{\"line_alpha\":0.1,\"line_color\":\"#1f77b4\",\"line_width\":2.5,\"x\":{\"field\":\"x\"},\"y\":{\"field\":\"y\"}},\"id\":\"36af6b6a-fa74-414a-92a8-ae6f9881583e\",\"type\":\"Line\"},{\"attributes\":{\"items\":[{\"id\":\"e3d5078a-2e4c-411b-9d24-b74b3b4c3e2d\",\"type\":\"LegendItem\"},{\"id\":\"b198cee2-dcd4-4cb8-9768-32af7d551c8e\",\"type\":\"LegendItem\"}],\"plot\":{\"id\":\"5a8605dc-cd28-4aee-9e0d-c06cadbdaa93\",\"subtype\":\"Figure\",\"type\":\"Plot\"}},\"id\":\"ac1d72ab-5d1e-43d2-bcfa-306e2c1890a0\",\"type\":\"Legend\"},{\"attributes\":{},\"id\":\"a77ac6cc-7d3d-493e-9f45-34d70d78526b\",\"type\":\"BasicTickFormatter\"},{\"attributes\":{\"source\":{\"id\":\"be6c4935-c570-4dd7-8d80-16f043239498\",\"type\":\"ColumnDataSource\"}},\"id\":\"73bf7ada-411a-43c9-97a5-4311a939214f\",\"type\":\"CDSView\"},{\"attributes\":{\"line_color\":\"blue\",\"x\":{\"field\":\"x\"},\"y\":{\"field\":\"y\"}},\"id\":\"ab5094e9-f446-45ed-85ca-33881e805efa\",\"type\":\"Line\"},{\"attributes\":{\"line_color\":\"red\",\"x\":{\"field\":\"x\"},\"y\":{\"field\":\"y\"}},\"id\":\"2543e345-81c2-4085-b4cf-5fe53c8f202c\",\"type\":\"Line\"},{\"attributes\":{},\"id\":\"1b835f35-8571-4e68-8fba-995c77dc0d3e\",\"type\":\"Selection\"},{\"attributes\":{\"callback\":null,\"data\":{\"x\":{\"__ndarray__\":\"AAAAAABwp0D7lQK1fiWrQPYrBWr92q5A+OCDDz5IsUD2KwVq/SKzQPN2hsS8/bRA8MEHH3zYtkDuDIl5O7O4QOxXCtT6jbpA6aKLLrpovEDm7QyJeUO+QHIcx3EcD8BA8MEHH3z8wEBwZ0jM2+nBQO4MiXk718JAbbLJJpvEw0DsVwrU+rHEQGr9SoFan8VA6aKLLrqMxkBoSMzbGXrHQObtDIl5Z8hAZZNNNtlUyUDkOI7jOELKQGPezpCYL8tA4YMPPvgczEBgKVDrVwrNQN/OkJi3981AXXTRRRflzkDcGRLzdtLPQK5fKVDrX9BAbbLJJpvW0EAsBWr9Sk3RQOxXCtT6w9FAq6qqqqo60kBq/UqBWrHSQCpQ61cKKNNA6aKLLrqe00Co9SsFahXUQGhIzNsZjNRAJ5tssskC1UDm7QyJeXnVQKZArV8p8NVAZZNNNtlm1kAk5u0Mid3WQOQ4juM4VNdAo4suuujK10Bj3s6QmEHYQCIxb2dIuNhA4YMPPvgu2UCh1q8UqKXZQGApUOtXHNpAH3zwwQeT2kDfzpCYtwnbQJ4hMW9ngNtAXXTRRRf320Adx3Ecx23cQNwZEvN25NxAm2yyySZb3UBbv1Kg1tHdQBoS83aGSN5A2mSTTTa/3kCZtzMk5jXfQFgK1PqVrN9AjC666KIR4EDsVwrU+kzgQEuBWr9SiOBAq6qqqqrD4EAK1PqVAv/gQGr9SoFaOuFAyiabbLJ14UAqUOtXCrHhQIl5O0Ni7OFA6aKLLron4kBJzNsZEmPiQKj1KwVqnuJACB988MHZ4kBoSMzbGRXjQMdxHMdxUONAJ5tsssmL40CHxLydIcfjQObtDIl5AuRARhdddNE95ECmQK1fKXnkQAVq/UqBtORAZZNNNtnv5EDFvJ0hMSvlQCTm7QyJZuVAhA8++OCh5UDkOI7jON3lQENi3s6QGOZAo4suuuhT5kADtX6lQI/mQGPezpCYyuZAwgcffPAF50AiMW9nSEHnQIJav1KgfOdA4YMPPvi350BBrV8pUPPnQKHWrxSoLuhAAAAAAABq6EA=\",\"dtype\":\"float64\",\"shape\":[100]},\"y\":{\"__ndarray__\":\"+yNfK7MU3jsjBaIARWt3PEPoQp4e4O08J7OGBefzST0vnWHyYPeUPQ/dycAiRtM9BKG7shYcBz6X845QGuIzPsQYJQ4jTlo+D+SwUnQofD703G+Y1liZPjaXadokxLM+aW+E985Vyz6mOYqBchLhPmOvUPWNjPM+ZthPo2PFBD9VPOzuqK4UP5T9eJKGdSM/ZeW5QUhrMT8tMKpcHdg9P67GX+ZXlkg/4Wgt5ymQUz8fmnI21ixeP4cckwPAoGY/5KjFwT6LcD+1CQgafaR3P54Wvwtti4A/1cIoRQK4hj82yeP+laiOP7mJ/7TOW5Q/wahFMqqkmj+cd7SP2TKhP3eohaoQ7aU/8mjtgoCgqz+NQzYDFjexP6FcU5n4O7U/8BDgdtDvuT/PLTqK3WK/P9Lurv3t0cI//zUj5XJfxj+pa4t4Bl7KPwuh3obazs4/2uxKmbHX0T/HCzqDO3zUP2x9KwzPTtc/5JqiF2JG2j8KxPaMQVfdP7Uh44bKOeA/baGsuyDG4T8QTT3MCEnjPzBWp8h6u+Q/ghMNQ48X5j/7Eyvk4VjnP3oZQQC7fOg/f3MYLwGC6T9OxNrt/2jqPylfVRUWM+s/e2UTUl7i6z+cSkkUX3nsP+8ZXnTJ+uw/SpmgX0lp7T9XxAztZcftP9erlvpuF+4/KoS9tnRb7j+yJTj7RZXuP69VfPJyxu4/Ys2GJ1Lw7j9D4CazBhTvP0IAZa+GMu8/MKyob6FM7z/smKI3BWPvP1lZzlFEdu8/NV5ZftmG7z9lwRDBK5XvP4jlJJyRoe8/FOSUyFOs7z+7N5t9r7XvP+gIm1fYve8/9AuE7fnE7z/oGtYhOcvvP/UenDq10O8/IwkByojV7z8dUplvytnvP3QBJXmN3e8/Oe9oaOLg7z82GMZi1+PvP6dmZo545u8/n9cpYNDo7z/HMfDc5+rvP1zWZdDG7O8/ZmQZ+3Pu7z95WVA59e/vP3yKz6NP8e8/jq+Wq4fy7z/pNWIxofPvP3Zcopmf9O8/x9543YX17z+D8zWZVvbvP0IyuRgU9+8/HUoKYsD37z8=\",\"dtype\":\"float64\",\"shape\":[100]}},\"selected\":{\"id\":\"1b835f35-8571-4e68-8fba-995c77dc0d3e\",\"type\":\"Selection\"},\"selection_policy\":{\"id\":\"0b1c070e-b0d0-438a-8598-3019e29aa8bd\",\"type\":\"UnionRenderers\"}},\"id\":\"0cab9318-a00f-4b99-b62f-d0e3ac0ff606\",\"type\":\"ColumnDataSource\"},{\"attributes\":{\"line_alpha\":0.1,\"line_color\":\"#1f77b4\",\"x\":{\"field\":\"x\"},\"y\":{\"field\":\"y\"}},\"id\":\"d3002363-05b4-4d35-ac46-006ff2ee7023\",\"type\":\"Line\"},{\"attributes\":{\"background_fill_color\":{\"value\":\"#efefef\"},\"below\":[{\"id\":\"128ff39a-77e0-483f-8cfe-76683fce3625\",\"type\":\"LinearAxis\"}],\"left\":[{\"id\":\"bf210572-a24d-41c1-842d-3a0da72a931b\",\"type\":\"LinearAxis\"}],\"plot_height\":300,\"renderers\":[{\"id\":\"128ff39a-77e0-483f-8cfe-76683fce3625\",\"type\":\"LinearAxis\"},{\"id\":\"307ca08f-6c09-4804-a7ab-4bba62ab1017\",\"type\":\"Grid\"},{\"id\":\"bf210572-a24d-41c1-842d-3a0da72a931b\",\"type\":\"LinearAxis\"},{\"id\":\"67a6775c-9086-4b06-8f77-404f406e9022\",\"type\":\"Grid\"},{\"id\":\"a1294ed3-8f24-4dd9-810d-9d8af4b2717d\",\"type\":\"BoxAnnotation\"},{\"id\":\"ac1d72ab-5d1e-43d2-bcfa-306e2c1890a0\",\"type\":\"Legend\"},{\"id\":\"d20fca35-2aad-402b-991a-52c5bdbc2493\",\"type\":\"GlyphRenderer\"},{\"id\":\"0490db56-8f5d-4a6d-9c56-b5372c54c4b0\",\"type\":\"GlyphRenderer\"},{\"id\":\"470b4999-603d-44e6-9bb4-1c49580418c1\",\"type\":\"GlyphRenderer\"},{\"id\":\"adf98f4f-e840-4da1-8c97-d0c6a09abe87\",\"type\":\"GlyphRenderer\"}],\"title\":{\"id\":\"11e72209-82b1-4cbb-8735-ea87142bd075\",\"type\":\"Title\"},\"toolbar\":{\"id\":\"207ce36f-af70-4651-a377-ed81f125b943\",\"type\":\"Toolbar\"},\"x_range\":{\"id\":\"d5751e48-00a3-4bb3-9e1a-28123973015f\",\"type\":\"DataRange1d\"},\"x_scale\":{\"id\":\"efc53099-0da5-4691-95db-4e3ceb557e10\",\"type\":\"LinearScale\"},\"y_range\":{\"id\":\"ceec5fa4-a51c-43ce-9fc7-51cb556e0c33\",\"type\":\"Range1d\"},\"y_scale\":{\"id\":\"d9e06c51-fc1a-4b3b-b12d-29f970054983\",\"type\":\"LinearScale\"}},\"id\":\"5a8605dc-cd28-4aee-9e0d-c06cadbdaa93\",\"subtype\":\"Figure\",\"type\":\"Plot\"},{\"attributes\":{\"data_source\":{\"id\":\"be6c4935-c570-4dd7-8d80-16f043239498\",\"type\":\"ColumnDataSource\"},\"glyph\":{\"id\":\"07ac5353-2192-411e-9933-b8e3987ae62e\",\"type\":\"Line\"},\"hover_glyph\":null,\"muted_glyph\":null,\"nonselection_glyph\":{\"id\":\"36af6b6a-fa74-414a-92a8-ae6f9881583e\",\"type\":\"Line\"},\"selection_glyph\":null,\"view\":{\"id\":\"73bf7ada-411a-43c9-97a5-4311a939214f\",\"type\":\"CDSView\"}},\"id\":\"0490db56-8f5d-4a6d-9c56-b5372c54c4b0\",\"type\":\"GlyphRenderer\"},{\"attributes\":{\"data_source\":{\"id\":\"0cab9318-a00f-4b99-b62f-d0e3ac0ff606\",\"type\":\"ColumnDataSource\"},\"glyph\":{\"id\":\"919c4cae-66db-49fa-9624-2c5dc854c8bb\",\"type\":\"Line\"},\"hover_glyph\":null,\"muted_glyph\":null,\"nonselection_glyph\":{\"id\":\"9c6bab8d-1755-4418-b5bb-544812f5828d\",\"type\":\"Line\"},\"selection_glyph\":null,\"view\":{\"id\":\"17681d5c-d510-455b-9979-b429d8f9513e\",\"type\":\"CDSView\"}},\"id\":\"d20fca35-2aad-402b-991a-52c5bdbc2493\",\"type\":\"GlyphRenderer\"},{\"attributes\":{\"line_alpha\":0.7,\"line_color\":\"red\",\"line_width\":2.5,\"x\":{\"field\":\"x\"},\"y\":{\"field\":\"y\"}},\"id\":\"07ac5353-2192-411e-9933-b8e3987ae62e\",\"type\":\"Line\"},{\"attributes\":{\"plot\":null,\"text\":\"simple line example\"},\"id\":\"11e72209-82b1-4cbb-8735-ea87142bd075\",\"type\":\"Title\"},{\"attributes\":{},\"id\":\"0b1c070e-b0d0-438a-8598-3019e29aa8bd\",\"type\":\"UnionRenderers\"},{\"attributes\":{\"callback\":null},\"id\":\"d5751e48-00a3-4bb3-9e1a-28123973015f\",\"type\":\"DataRange1d\"},{\"attributes\":{\"label\":{\"value\":\"Neon\"},\"renderers\":[{\"id\":\"0490db56-8f5d-4a6d-9c56-b5372c54c4b0\",\"type\":\"GlyphRenderer\"}]},\"id\":\"b198cee2-dcd4-4cb8-9768-32af7d551c8e\",\"type\":\"LegendItem\"},{\"attributes\":{\"active_drag\":\"auto\",\"active_inspect\":\"auto\",\"active_scroll\":\"auto\",\"active_tap\":\"auto\",\"tools\":[{\"id\":\"ff91153a-1560-4f91-83bd-c2affd152ab9\",\"type\":\"PanTool\"},{\"id\":\"0c34d9da-6399-43ec-aa80-a94f19c18017\",\"type\":\"WheelZoomTool\"},{\"id\":\"95cd3104-8d82-470d-9ffd-600912f59d96\",\"type\":\"BoxZoomTool\"},{\"id\":\"34c283dd-206d-40a7-bbbb-5fe2c3f117c3\",\"type\":\"SaveTool\"},{\"id\":\"086234c2-d1fd-404e-bf37-b144b3e964fb\",\"type\":\"ResetTool\"},{\"id\":\"160f71cf-ebaf-40a5-9d9b-d2d83020159d\",\"type\":\"HelpTool\"}]},\"id\":\"207ce36f-af70-4651-a377-ed81f125b943\",\"type\":\"Toolbar\"},{\"attributes\":{\"callback\":null,\"data\":{\"x\":[28533.6777,28533.6777,28533.6777,28533.6777,28533.6777,28533.6777,28533.6777,28533.6777,28533.6777,28533.6777,28533.6777],\"y\":[0.0,0.1,0.2,0.3,0.4,0.5,0.6,0.7,0.8,0.9,1.0]},\"selected\":{\"id\":\"2e986835-de8e-4044-b85a-3c3510958092\",\"type\":\"Selection\"},\"selection_policy\":{\"id\":\"af9e16ed-1703-4822-bc3c-37675d02e5e1\",\"type\":\"UnionRenderers\"}},\"id\":\"968d2c71-3c52-4c09-a3e5-881de23b131e\",\"type\":\"ColumnDataSource\"},{\"attributes\":{},\"id\":\"1702c9ed-ba80-41ba-b210-a5b118c4a7a2\",\"type\":\"Selection\"},{\"attributes\":{\"line_alpha\":0.1,\"line_color\":\"#1f77b4\",\"x\":{\"field\":\"x\"},\"y\":{\"field\":\"y\"}},\"id\":\"16fde63c-c10b-4399-8d10-3e9e54c4b29f\",\"type\":\"Line\"},{\"attributes\":{},\"id\":\"efc53099-0da5-4691-95db-4e3ceb557e10\",\"type\":\"LinearScale\"},{\"attributes\":{\"data_source\":{\"id\":\"968d2c71-3c52-4c09-a3e5-881de23b131e\",\"type\":\"ColumnDataSource\"},\"glyph\":{\"id\":\"ab5094e9-f446-45ed-85ca-33881e805efa\",\"type\":\"Line\"},\"hover_glyph\":null,\"muted_glyph\":null,\"nonselection_glyph\":{\"id\":\"16fde63c-c10b-4399-8d10-3e9e54c4b29f\",\"type\":\"Line\"},\"selection_glyph\":null,\"view\":{\"id\":\"3453f2bf-fd5e-4edb-b329-1853b4826f24\",\"type\":\"CDSView\"}},\"id\":\"470b4999-603d-44e6-9bb4-1c49580418c1\",\"type\":\"GlyphRenderer\"},{\"attributes\":{\"callback\":null,\"start\":-0.01},\"id\":\"ceec5fa4-a51c-43ce-9fc7-51cb556e0c33\",\"type\":\"Range1d\"},{\"attributes\":{},\"id\":\"2e986835-de8e-4044-b85a-3c3510958092\",\"type\":\"Selection\"},{\"attributes\":{},\"id\":\"d9e06c51-fc1a-4b3b-b12d-29f970054983\",\"type\":\"LinearScale\"},{\"attributes\":{\"plot\":{\"id\":\"5a8605dc-cd28-4aee-9e0d-c06cadbdaa93\",\"subtype\":\"Figure\",\"type\":\"Plot\"},\"ticker\":{\"id\":\"c182c699-f4cc-4d99-8b0d-f8d5ce62157d\",\"type\":\"BasicTicker\"}},\"id\":\"307ca08f-6c09-4804-a7ab-4bba62ab1017\",\"type\":\"Grid\"},{\"attributes\":{\"source\":{\"id\":\"968d2c71-3c52-4c09-a3e5-881de23b131e\",\"type\":\"ColumnDataSource\"}},\"id\":\"3453f2bf-fd5e-4edb-b329-1853b4826f24\",\"type\":\"CDSView\"},{\"attributes\":{\"axis_label\":\"temp\",\"formatter\":{\"id\":\"a77ac6cc-7d3d-493e-9f45-34d70d78526b\",\"type\":\"BasicTickFormatter\"},\"plot\":{\"id\":\"5a8605dc-cd28-4aee-9e0d-c06cadbdaa93\",\"subtype\":\"Figure\",\"type\":\"Plot\"},\"ticker\":{\"id\":\"c182c699-f4cc-4d99-8b0d-f8d5ce62157d\",\"type\":\"BasicTicker\"}},\"id\":\"128ff39a-77e0-483f-8cfe-76683fce3625\",\"type\":\"LinearAxis\"},{\"attributes\":{\"callback\":null,\"data\":{\"x\":[25025.60225,25025.60225,25025.60225,25025.60225,25025.60225,25025.60225,25025.60225,25025.60225,25025.60225,25025.60225,25025.60225],\"y\":[0.0,0.1,0.2,0.3,0.4,0.5,0.6,0.7,0.8,0.9,1.0]},\"selected\":{\"id\":\"f0b4c860-e1b7-41ba-ab7a-4497e0272e6a\",\"type\":\"Selection\"},\"selection_policy\":{\"id\":\"7a9a4133-a83d-44da-8105-1f7827923455\",\"type\":\"UnionRenderers\"}},\"id\":\"9549b946-cbe0-4428-88c3-801ebfb9651a\",\"type\":\"ColumnDataSource\"},{\"attributes\":{},\"id\":\"c182c699-f4cc-4d99-8b0d-f8d5ce62157d\",\"type\":\"BasicTicker\"},{\"attributes\":{\"data_source\":{\"id\":\"9549b946-cbe0-4428-88c3-801ebfb9651a\",\"type\":\"ColumnDataSource\"},\"glyph\":{\"id\":\"2543e345-81c2-4085-b4cf-5fe53c8f202c\",\"type\":\"Line\"},\"hover_glyph\":null,\"muted_glyph\":null,\"nonselection_glyph\":{\"id\":\"d3002363-05b4-4d35-ac46-006ff2ee7023\",\"type\":\"Line\"},\"selection_glyph\":null,\"view\":{\"id\":\"60ac06ce-5a20-4e2c-8dc5-f6761a15d750\",\"type\":\"CDSView\"}},\"id\":\"adf98f4f-e840-4da1-8c97-d0c6a09abe87\",\"type\":\"GlyphRenderer\"},{\"attributes\":{},\"id\":\"1c7e7335-64a9-46fd-a309-6bfbf49f2b84\",\"type\":\"UnionRenderers\"},{\"attributes\":{\"axis_label\":\"Ionization coef\",\"formatter\":{\"id\":\"69049f6d-40da-4759-ada5-a53de693ce4b\",\"type\":\"BasicTickFormatter\"},\"plot\":{\"id\":\"5a8605dc-cd28-4aee-9e0d-c06cadbdaa93\",\"subtype\":\"Figure\",\"type\":\"Plot\"},\"ticker\":{\"id\":\"b2dba776-767b-4dff-92e0-85a5b9e68fee\",\"type\":\"BasicTicker\"}},\"id\":\"bf210572-a24d-41c1-842d-3a0da72a931b\",\"type\":\"LinearAxis\"},{\"attributes\":{},\"id\":\"b2dba776-767b-4dff-92e0-85a5b9e68fee\",\"type\":\"BasicTicker\"},{\"attributes\":{\"source\":{\"id\":\"9549b946-cbe0-4428-88c3-801ebfb9651a\",\"type\":\"ColumnDataSource\"}},\"id\":\"60ac06ce-5a20-4e2c-8dc5-f6761a15d750\",\"type\":\"CDSView\"},{\"attributes\":{\"dimension\":1,\"plot\":{\"id\":\"5a8605dc-cd28-4aee-9e0d-c06cadbdaa93\",\"subtype\":\"Figure\",\"type\":\"Plot\"},\"ticker\":{\"id\":\"b2dba776-767b-4dff-92e0-85a5b9e68fee\",\"type\":\"BasicTicker\"}},\"id\":\"67a6775c-9086-4b06-8f77-404f406e9022\",\"type\":\"Grid\"},{\"attributes\":{},\"id\":\"af9e16ed-1703-4822-bc3c-37675d02e5e1\",\"type\":\"UnionRenderers\"},{\"attributes\":{\"line_alpha\":0.1,\"line_color\":\"#1f77b4\",\"line_width\":2.5,\"x\":{\"field\":\"x\"},\"y\":{\"field\":\"y\"}},\"id\":\"9c6bab8d-1755-4418-b5bb-544812f5828d\",\"type\":\"Line\"},{\"attributes\":{},\"id\":\"7a9a4133-a83d-44da-8105-1f7827923455\",\"type\":\"UnionRenderers\"}],\"root_ids\":[\"5a8605dc-cd28-4aee-9e0d-c06cadbdaa93\"]},\"title\":\"Bokeh Application\",\"version\":\"0.12.16\"}};\n",
       "  var render_items = [{\"docid\":\"858505d7-617e-4fcd-8f95-1febd29fa6be\",\"elementid\":\"0621cbbd-d256-41f7-937e-7e743b79601f\",\"modelid\":\"5a8605dc-cd28-4aee-9e0d-c06cadbdaa93\",\"notebook_comms_target\":\"c9d98e29-da43-43b4-a773-51aa010d2bd7\"}];\n",
       "  root.Bokeh.embed.embed_items_notebook(docs_json, render_items);\n",
       "\n",
       "  }\n",
       "  if (root.Bokeh !== undefined) {\n",
       "    embed_document(root);\n",
       "  } else {\n",
       "    var attempts = 0;\n",
       "    var timer = setInterval(function(root) {\n",
       "      if (root.Bokeh !== undefined) {\n",
       "        embed_document(root);\n",
       "        clearInterval(timer);\n",
       "      }\n",
       "      attempts++;\n",
       "      if (attempts > 100) {\n",
       "        console.log(\"Bokeh: ERROR: Unable to run BokehJS code because BokehJS library is missing\")\n",
       "        clearInterval(timer);\n",
       "      }\n",
       "    }, 10, root)\n",
       "  }\n",
       "})(window);"
      ],
      "application/vnd.bokehjs_exec.v0+json": ""
     },
     "metadata": {
      "application/vnd.bokehjs_exec.v0+json": {
       "id": "5a8605dc-cd28-4aee-9e0d-c06cadbdaa93"
      }
     },
     "output_type": "display_data"
    },
    {
     "data": {
      "application/vnd.jupyter.widget-view+json": {
       "model_id": "e5f59846be924cdbbbc2d44106cdefc8",
       "version_major": 2,
       "version_minor": 0
      },
      "text/plain": [
       "interactive(children=(FloatSlider(value=0.1, description='p', max=1.0, min=0.1, step=0.01), Output()), _dom_cl…"
      ]
     },
     "metadata": {},
     "output_type": "display_data"
    },
    {
     "data": {
      "text/plain": [
       "<function __main__.update(p=0.1)>"
      ]
     },
     "execution_count": 57,
     "metadata": {},
     "output_type": "execute_result"
    }
   ],
   "source": [
    "H_I = 24.5874\n",
    "N_I = 21.5645\n",
    "H_y = find_alpha(calc_func(T_eV, p = 0.1, m = m_e, I = H_I))\n",
    "N_y = find_alpha(calc_func(T_eV, p = 0.1, m = m_e, I = N_I))\n",
    "\n",
    "fig = figure(title=\"simple line example\", plot_height=300, plot_width=600, y_range=(-0.01,1),\n",
    "           background_fill_color='#efefef', x_axis_label='temp', y_axis_label='Ionization coef')\n",
    "H = fig.line(T, H_y, color=\"blue\", line_width=2.5, alpha=0.7, legend = 'Helium')\n",
    "N = fig.line(T, N_y, color=\"red\", line_width=2.5, alpha=0.7, legend = 'Neon')\n",
    "\n",
    "I1 = fig.line([H_I*11605/10 for i in range(11)], [i/10 for i in range(0,11)], color = 'blue')\n",
    "I2 = fig.line([N_I*11605/10 for i in range(11)], [i/10 for i in range(0,11)], color = \"red\")\n",
    "\n",
    "def update(p=0.1):\n",
    "    H.data_source.data['y'] = find_alpha(calc_func(T_eV, p, m = m_e, I = H_I))\n",
    "    N.data_source.data['y'] = find_alpha(calc_func(T_eV, p, m = m_e, I = N_I))\n",
    "    push_notebook()\n",
    "    \n",
    "show(fig,  notebook_handle =True)\n",
    "interact(update, p=(0.1,1,0.01))"
   ]
  },
  {
   "cell_type": "code",
   "execution_count": 49,
   "metadata": {},
   "outputs": [
    {
     "data": {
      "text/plain": [
       "[24.5874,\n",
       " 24.5874,\n",
       " 24.5874,\n",
       " 24.5874,\n",
       " 24.5874,\n",
       " 24.5874,\n",
       " 24.5874,\n",
       " 24.5874,\n",
       " 24.5874,\n",
       " 24.5874]"
      ]
     },
     "execution_count": 49,
     "metadata": {},
     "output_type": "execute_result"
    }
   ],
   "source": [
    "[H_I for i in range(10)]"
   ]
  },
  {
   "cell_type": "code",
   "execution_count": null,
   "metadata": {},
   "outputs": [],
   "source": []
  }
 ],
 "metadata": {
  "kernelspec": {
   "display_name": "Python 3",
   "language": "python",
   "name": "python3"
  },
  "language_info": {
   "codemirror_mode": {
    "name": "ipython",
    "version": 3
   },
   "file_extension": ".py",
   "mimetype": "text/x-python",
   "name": "python",
   "nbconvert_exporter": "python",
   "pygments_lexer": "ipython3",
   "version": "3.6.5"
  }
 },
 "nbformat": 4,
 "nbformat_minor": 2
}
