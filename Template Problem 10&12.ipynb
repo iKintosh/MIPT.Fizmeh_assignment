{
 "cells": [
  {
   "cell_type": "code",
   "execution_count": 1,
   "metadata": {},
   "outputs": [],
   "source": [
    "import numpy as np\n",
    "import matplotlib.pyplot as plt"
   ]
  },
  {
   "cell_type": "code",
   "execution_count": 2,
   "metadata": {},
   "outputs": [],
   "source": [
    "def calc_func(T, p, g_i = 1, z_a = 1, m = 6.64*10e-27, I = 24.5874, H = 6.582*10e-16):\n",
    "    #enter your code here\n",
    "    #print((2*g_i/z_a) * (T/p) *(m*T/(2*np.pi*H**2))**(3/2) * np.exp(-I/T))\n",
    "    return((2*g_i/z_a) * (T/p)*(m*T/(2*np.pi*H**2))**(3/2) * np.exp(-I/T))\n",
    "    pass\n",
    "\n",
    "def find_alpha(coef):\n",
    "    return np.sqrt(coef/(coef+1))"
   ]
  },
  {
   "cell_type": "code",
   "execution_count": 8,
   "metadata": {},
   "outputs": [],
   "source": [
    "g_i = 1\n",
    "z_a = 1  #от основного состояния\n",
    "m = 6.64*10e-27 #kg\n",
    "m_e = 9.10938356*10e-28 # g\n",
    "H = 6.582*10e-16 #Эв*с\n",
    "T = np.linspace(3000, 50000, 100)\n",
    "T_eV = T/11605 \n",
    "p = np.linspace(0.1, 1, 10)\n",
    "I = 24.5874\n"
   ]
  },
  {
   "cell_type": "code",
   "execution_count": 17,
   "metadata": {},
   "outputs": [
    {
     "name": "stdout",
     "output_type": "stream",
     "text": [
      "[6.49203829e-40 4.12608354e-34 1.10014485e-29 3.40053280e-26\n",
      " 2.27260998e-23 4.91657408e-21 4.52365756e-19 2.14315436e-17\n",
      " 6.00183727e-16 1.10033423e-14 1.42657364e-13 1.38805291e-12\n",
      " 1.06185293e-11 6.62692453e-11 3.47577050e-10 1.56955715e-09\n",
      " 6.22467046e-09 2.20406791e-08 7.06464207e-08 2.07376746e-07\n",
      " 5.63016735e-07 1.42573181e-06 3.39203470e-06 7.62979862e-06\n",
      " 1.63141468e-05 3.33182831e-05 6.52653538e-05 1.23073268e-04\n",
      " 2.24150822e-04 3.95429057e-04 6.77435077e-04 1.12963519e-03\n",
      " 1.83728910e-03 2.92006572e-03 4.54267407e-03 6.92775832e-03\n",
      " 1.03712955e-02 1.52607168e-02 2.20959515e-02 3.15135628e-02\n",
      " 4.43141146e-02 6.14928714e-02 8.42738975e-02 1.14147581e-01\n",
      " 1.52911575e-01 2.02715096e-01 2.66106509e-01 3.46084065e-01\n",
      " 4.46149642e-01 5.70365316e-01 7.23412539e-01 9.10653722e-01\n",
      " 1.13819595e+00 1.41295657e+00 1.74273044e+00 2.13625845e+00\n",
      " 2.60329713e+00 3.15468904e+00 3.80243360e+00 4.55975822e+00\n",
      " 5.44118926e+00 6.46262275e+00 7.64139457e+00 8.99634968e+00\n",
      " 1.05479105e+01 1.23181439e+01 1.43308269e+01 1.66115104e+01\n",
      " 1.91875817e+01 2.20883247e+01 2.53449775e+01 2.89907894e+01\n",
      " 3.30610736e+01 3.75932590e+01 4.26269387e+01 4.82039165e+01\n",
      " 5.43682505e+01 6.11662939e+01 6.86467338e+01 7.68606264e+01\n",
      " 8.58614307e+01 9.57050380e+01 1.06449800e+02 1.18156556e+02\n",
      " 1.30888649e+02 1.44711954e+02 1.59694889e+02 1.75908434e+02\n",
      " 1.93426138e+02 2.12324136e+02 2.32681152e+02 2.54578505e+02\n",
      " 2.78100113e+02 3.03332495e+02 3.30364769e+02 3.59288646e+02\n",
      " 3.90198434e+02 4.23191021e+02 4.58365872e+02 4.95825018e+02]\n"
     ]
    }
   ],
   "source": [
    "coef = calc_func(T_eV , 0.1 , m = m_e)"
   ]
  },
  {
   "cell_type": "code",
   "execution_count": 18,
   "metadata": {},
   "outputs": [],
   "source": [
    "alpha = find_alpha(coef)"
   ]
  },
  {
   "cell_type": "code",
   "execution_count": 21,
   "metadata": {},
   "outputs": [
    {
     "data": {
      "image/png": "[encoded data removed]",
      "text/plain": [
       "<Figure size 432x288 with 1 Axes>"
      ]
     },
     "metadata": {},
     "output_type": "display_data"
    }
   ],
   "source": [
    "plt.plot(T_eV, alpha)\n",
    "plt.grid()\n",
    "plt.show()"
   ]
  },
  {
   "cell_type": "code",
   "execution_count": 20,
   "metadata": {},
   "outputs": [
    {
     "data": {
      "text/plain": [
       "array([2.54794786e-20, 2.03127633e-17, 3.31684316e-15, 1.84405336e-13,\n",
       "       4.76718993e-12, 7.01182863e-11, 6.72581412e-10, 4.62942152e-09,\n",
       "       2.44986475e-08, 1.04896817e-07, 3.77700097e-07, 1.17815657e-06,\n",
       "       3.25860850e-06, 8.14059244e-06, 1.86434184e-05, 3.96176369e-05,\n",
       "       7.88965806e-05, 1.48461034e-04, 2.65793935e-04, 4.55386322e-04,\n",
       "       7.50344200e-04, 1.19403927e-03, 1.84174461e-03, 2.76219847e-03,\n",
       "       4.03904452e-03, 5.77210300e-03, 8.07843392e-03, 1.10931566e-02,\n",
       "       1.49699896e-02, 1.98814676e-02, 2.60187715e-02, 3.35910786e-02,\n",
       "       4.28242882e-02, 5.39589081e-02, 6.72467954e-02, 8.29463362e-02,\n",
       "       1.01315526e-01, 1.22602316e-01, 1.47031545e-01, 1.74787866e-01,\n",
       "       2.05994424e-01, 2.40687672e-01, 2.78789901e-01, 3.20082548e-01,\n",
       "       3.64185106e-01, 4.10545848e-01, 4.58450687e-01, 5.07054580e-01,\n",
       "       5.55435530e-01, 6.02665328e-01, 6.47885696e-01, 6.90375930e-01,\n",
       "       7.29599901e-01, 7.65225888e-01, 7.97119705e-01, 8.25317349e-01,\n",
       "       8.49986116e-01, 8.71382866e-01, 8.89815845e-01, 9.05613639e-01,\n",
       "       9.19102370e-01, 9.30590594e-01, 9.40360536e-01, 9.48664052e-01,\n",
       "       9.55721846e-01, 9.61724733e-01, 9.66836049e-01, 9.71194601e-01,\n",
       "       9.74917739e-01, 9.78104323e-01, 9.80837449e-01, 9.83186874e-01,\n",
       "       9.85211131e-01, 9.86959340e-01, 9.88472753e-01, 9.89786045e-01,\n",
       "       9.90928407e-01, 9.91924449e-01, 9.92794956e-01, 9.93557516e-01,\n",
       "       9.94227042e-01, 9.94816203e-01, 9.95335787e-01, 9.95794999e-01,\n",
       "       9.96201710e-01, 9.96562665e-01, 9.96883658e-01, 9.97169674e-01,\n",
       "       9.97425014e-01, 9.97653396e-01, 9.97858038e-01, 9.98041737e-01,\n",
       "       9.98206921e-01, 9.98355708e-01, 9.98489949e-01, 9.98611260e-01,\n",
       "       9.98721058e-01, 9.98820590e-01, 9.98910950e-01, 9.98993103e-01])"
      ]
     },
     "execution_count": 20,
     "metadata": {},
     "output_type": "execute_result"
    }
   ],
   "source": [
    "alpha"
   ]
  },
  {
   "cell_type": "code",
   "execution_count": 132,
   "metadata": {},
   "outputs": [
    {
     "data": {
      "text/plain": [
       "array([4.93481362e-42, 2.17231457e-36, 4.20522060e-32, 9.78684022e-29,\n",
       "       5.06933941e-26, 8.70290639e-24, 6.47998675e-22, 2.52579690e-20,\n",
       "       5.90238265e-19, 9.14058910e-18, 1.01178116e-16, 8.48449144e-16,\n",
       "       5.64075580e-15, 3.08232344e-14, 1.42502824e-13, 5.70674723e-13,\n",
       "       2.01817327e-12, 6.40441392e-12, 1.84822735e-11, 4.90538905e-11,\n",
       "       1.20886516e-10, 2.78872754e-10, 6.06451331e-10, 1.25075094e-09,\n",
       "       2.45928018e-09, 4.63120383e-09, 8.38627439e-09, 1.46543022e-08,\n",
       "       2.47876424e-08, 4.06985714e-08, 6.50226527e-08, 1.01308305e-07,\n",
       "       1.54231834e-07, 2.29836243e-07, 3.35791229e-07, 4.81670968e-07,\n",
       "       6.79245633e-07, 9.42782047e-07, 1.28934856e-06, 1.73911901e-06,\n",
       "       2.31567075e-06, 3.04627160e-06, 3.96215125e-06, 5.09875261e-06,\n",
       "       6.49595943e-06, 8.19829682e-06, 1.02551019e-05, 1.27206629e-05,\n",
       "       1.56543240e-05, 1.91205572e-05, 2.31889981e-05, 2.79344480e-05,\n",
       "       3.34368419e-05, 3.97811831e-05, 4.70574473e-05, 5.53604559e-05,\n",
       "       6.47897220e-05, 7.54492705e-05, 8.74474354e-05, 1.00896635e-04,\n",
       "       1.15913130e-04, 1.32616763e-04, 1.51130691e-04, 1.71581094e-04,\n",
       "       1.94096892e-04, 2.18809440e-04, 2.45852225e-04, 2.75360566e-04,\n",
       "       3.07471300e-04, 3.42322486e-04, 3.80053096e-04, 4.20802722e-04,\n",
       "       4.64711281e-04, 5.11918734e-04, 5.62564807e-04, 6.16788723e-04,\n",
       "       6.74728942e-04, 7.36522918e-04, 8.02306856e-04, 8.72215488e-04,\n",
       "       9.46381860e-04, 1.02493713e-03, 1.10801037e-03, 1.19572840e-03,\n",
       "       1.28821560e-03, 1.38559380e-03, 1.48798207e-03, 1.59549666e-03,\n",
       "       1.70825082e-03, 1.82635474e-03, 1.94991543e-03, 2.07903661e-03,\n",
       "       2.21381869e-03, 2.35435867e-03, 2.50075007e-03, 2.65308291e-03,\n",
       "       2.81144366e-03, 2.97591522e-03, 3.14657688e-03, 3.32350430e-03])"
      ]
     },
     "execution_count": 132,
     "metadata": {},
     "output_type": "execute_result"
    }
   ],
   "source": [
    "np.exp(-I/T_eV)"
   ]
  },
  {
   "cell_type": "code",
   "execution_count": 134,
   "metadata": {},
   "outputs": [
    {
     "data": {
      "text/plain": [
       "array([0.00080464, 0.00100301, 0.00121544, 0.00144106, 0.00167912,\n",
       "       0.00192902, 0.00219022, 0.00246224, 0.00274468, 0.00303716,\n",
       "       0.00333935, 0.00365095, 0.00397168, 0.00430129, 0.00463954,\n",
       "       0.00498622, 0.00534113, 0.00570408, 0.0060749 , 0.00645342,\n",
       "       0.0068395 , 0.00723298, 0.00763373, 0.00804162, 0.00845652,\n",
       "       0.00887833, 0.00930692, 0.0097422 , 0.01018406, 0.01063241,\n",
       "       0.01108715, 0.01154819, 0.01201545, 0.01248885, 0.01296831,\n",
       "       0.01345375, 0.0139451 , 0.01444229, 0.01494526, 0.01545393,\n",
       "       0.01596824, 0.01648814, 0.01701356, 0.01754445, 0.01808074,\n",
       "       0.01862239, 0.01916935, 0.01972155, 0.02027896, 0.02084153,\n",
       "       0.0214092 , 0.02198194, 0.02255969, 0.02314242, 0.02373008,\n",
       "       0.02432263, 0.02492003, 0.02552225, 0.02612924, 0.02674097,\n",
       "       0.0273574 , 0.02797849, 0.02860421, 0.02923453, 0.02986942,\n",
       "       0.03050883, 0.03115274, 0.03180112, 0.03245394, 0.03311116,\n",
       "       0.03377276, 0.03443871, 0.03510898, 0.03578355, 0.03646238,\n",
       "       0.03714544, 0.03783273, 0.03852419, 0.03921982, 0.03991959,\n",
       "       0.04062347, 0.04133144, 0.04204348, 0.04275956, 0.04347965,\n",
       "       0.04420375, 0.04493182, 0.04566385, 0.0463998 , 0.04713967,\n",
       "       0.04788343, 0.04863106, 0.04938255, 0.05013786, 0.05089699,\n",
       "       0.05165991, 0.0524266 , 0.05319705, 0.05397124, 0.05474914])"
      ]
     },
     "execution_count": 134,
     "metadata": {},
     "output_type": "execute_result"
    }
   ],
   "source": [
    "(m_e*T_eV/ (2 * np.pi * H**2) )**(3/2)"
   ]
  },
  {
   "cell_type": "code",
   "execution_count": 136,
   "metadata": {},
   "outputs": [
    {
     "data": {
      "text/plain": [
       "array([ 2.58509263,  2.99418137,  3.4032701 ,  3.81235883,  4.22144756,\n",
       "        4.6305363 ,  5.03962503,  5.44871376,  5.8578025 ,  6.26689123,\n",
       "        6.67597996,  7.0850687 ,  7.49415743,  7.90324616,  8.3123349 ,\n",
       "        8.72142363,  9.13051236,  9.53960109,  9.94868983, 10.35777856,\n",
       "       10.76686729, 11.17595603, 11.58504476, 11.99413349, 12.40322223,\n",
       "       12.81231096, 13.22139969, 13.63048843, 14.03957716, 14.44866589,\n",
       "       14.85775463, 15.26684336, 15.67593209, 16.08502082, 16.49410956,\n",
       "       16.90319829, 17.31228702, 17.72137576, 18.13046449, 18.53955322,\n",
       "       18.94864196, 19.35773069, 19.76681942, 20.17590816, 20.58499689,\n",
       "       20.99408562, 21.40317435, 21.81226309, 22.22135182, 22.63044055,\n",
       "       23.03952929, 23.44861802, 23.85770675, 24.26679549, 24.67588422,\n",
       "       25.08497295, 25.49406169, 25.90315042, 26.31223915, 26.72132788,\n",
       "       27.13041662, 27.53950535, 27.94859408, 28.35768282, 28.76677155,\n",
       "       29.17586028, 29.58494902, 29.99403775, 30.40312648, 30.81221522,\n",
       "       31.22130395, 31.63039268, 32.03948141, 32.44857015, 32.85765888,\n",
       "       33.26674761, 33.67583635, 34.08492508, 34.49401381, 34.90310255,\n",
       "       35.31219128, 35.72128001, 36.13036875, 36.53945748, 36.94854621,\n",
       "       37.35763494, 37.76672368, 38.17581241, 38.58490114, 38.99398988,\n",
       "       39.40307861, 39.81216734, 40.22125608, 40.63034481, 41.03943354,\n",
       "       41.44852228, 41.85761101, 42.26669974, 42.67578848, 43.08487721])"
      ]
     },
     "execution_count": 136,
     "metadata": {},
     "output_type": "execute_result"
    }
   ],
   "source": [
    "(T_eV/0.1)"
   ]
  },
  {
   "cell_type": "code",
   "execution_count": null,
   "metadata": {},
   "outputs": [],
   "source": []
  }
 ],
 "metadata": {
  "kernelspec": {
   "display_name": "Python 3",
   "language": "python",
   "name": "python3"
  },
  "language_info": {
   "codemirror_mode": {
    "name": "ipython",
    "version": 3
   },
   "file_extension": ".py",
   "mimetype": "text/x-python",
   "name": "python",
   "nbconvert_exporter": "python",
   "pygments_lexer": "ipython3",
   "version": "3.6.5"
  }
 },
 "nbformat": 4,
 "nbformat_minor": 2
}
